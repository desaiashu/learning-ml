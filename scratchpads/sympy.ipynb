{
 "cells": [
  {
   "cell_type": "code",
   "execution_count": 2,
   "metadata": {},
   "outputs": [],
   "source": [
    "import torch\n",
    "from sympy import Matrix, init_printing, cos, sin, rad, N\n",
    "import random\n",
    "import time\n",
    "from concurrent.futures import ProcessPoolExecutor\n",
    "import timeit\n",
    "import subprocess\n",
    "\n",
    "# Initialize pretty printing\n",
    "init_printing()\n"
   ]
  },
  {
   "cell_type": "code",
   "execution_count": 2,
   "metadata": {},
   "outputs": [
    {
     "name": "stdout",
     "output_type": "stream",
     "text": [
      "2.3.0.dev20240311\n"
     ]
    }
   ],
   "source": [
    "print(torch.__version__)"
   ]
  },
  {
   "cell_type": "markdown",
   "metadata": {},
   "source": [
    "$$\n",
    "\\mathbf{A} = \\begin{pmatrix} {11} & {12} & {13} \\\\ {21} & {22} & {23} \\end{pmatrix}\n",
    "$$\n",
    "\n",
    "\n",
    "$$\n",
    "\n",
    "a \\in \\mathbb{R}\n",
    "$$\n",
    "\n",
    "$$\n",
    "\n",
    "\\mathbf{M} = \\begin{pmatrix} \n",
    "m_{11} & m_{12} & \\cdots & m_{1n} \\\\ \n",
    "m_{21} & m_{22} & \\cdots & m_{2n} \\\\ \n",
    "\\vdots & \\vdots & \\ddots & \\vdots \\\\ \n",
    "m_{m1} & m_{m2} & \\cdots & m_{mn} \n",
    "\\end{pmatrix}\n",
    "$$\n",
    "$$\n",
    "\\mathbf{M}^\\top\n",
    "$$\n",
    "\n",
    "$$\n",
    "\\mathbf{M}^{-1}\n",
    "$$\n",
    "\n",
    "$$\n",
    "\\vec{u} \\cdot \\vec{v} = u_1v_1 + u_2v_2 + \\cdots + u_nv_n\n",
    "\n",
    "$$"
   ]
  },
  {
   "cell_type": "markdown",
   "metadata": {},
   "source": [
    "$$\n",
    "\\mathbf{T} = T_{ijk} \\quad \\text{where } i, j, k \\text{ are indices.}\n",
    "$$"
   ]
  },
  {
   "cell_type": "code",
   "execution_count": 7,
   "metadata": {},
   "outputs": [
    {
     "name": "stdout",
     "output_type": "stream",
     "text": [
      "tensor([[0.1670, 0.3071, 0.7835],\n",
      "        [0.1887, 0.1755, 0.5571],\n",
      "        [0.8769, 0.2957, 0.8682],\n",
      "        [0.4411, 0.0449, 0.9226],\n",
      "        [0.6492, 0.6468, 0.1082]])\n"
     ]
    }
   ],
   "source": [
    "\n",
    "x = torch.rand(5, 3)\n",
    "print(x)"
   ]
  },
  {
   "cell_type": "markdown",
   "metadata": {},
   "source": [
    "$$\n",
    "\\mathbf{A} = \\begin{pmatrix}\n",
    "a & b \\\\\n",
    "c & d\n",
    "\\end{pmatrix}\n",
    "\\\\\n",
    "\\mathbf{A}^{-1} = \\begin{pmatrix}\n",
    "d & -b \\\\\n",
    "-c & a\n",
    "\\end{pmatrix}\n",
    "$$"
   ]
  },
  {
   "cell_type": "markdown",
   "metadata": {},
   "source": [
    "$$\n",
    "\\mathbf{AA}^{-1} = \\begin{pmatrix}\n",
    "ad & -bc \\\\\n",
    "-cb & ad\n",
    "\\end{pmatrix}\n",
    "$$"
   ]
  },
  {
   "cell_type": "code",
   "execution_count": 30,
   "metadata": {},
   "outputs": [
    {
     "data": {
      "text/latex": [
       "$\\displaystyle \\left[\\begin{matrix}1\\\\2\\\\3\\end{matrix}\\right]$"
      ],
      "text/plain": [
       "⎡1⎤\n",
       "⎢ ⎥\n",
       "⎢2⎥\n",
       "⎢ ⎥\n",
       "⎣3⎦"
      ]
     },
     "execution_count": 30,
     "metadata": {},
     "output_type": "execute_result"
    }
   ],
   "source": [
    "# Define your vector\n",
    "vector = [1, 2, 3]\n",
    "\n",
    "# Convert the vector to a LaTeX formatted string\n",
    "Matrix(vector)\n"
   ]
  },
  {
   "cell_type": "code",
   "execution_count": 3,
   "metadata": {},
   "outputs": [
    {
     "data": {
      "image/png": "[encoded data removed]",
      "text/latex": [
       "$\\displaystyle \\left[ -5.95009919503805, \\  -3.68731875069238\\right]$"
      ],
      "text/plain": [
       "[-5.95009919503805, -3.68731875069238]"
      ]
     },
     "execution_count": 3,
     "metadata": {},
     "output_type": "execute_result"
    }
   ],
   "source": [
    "len1 = 8\n",
    "deg1 = 190\n",
    "len2 = 3\n",
    "deg2 = 310\n",
    "\n",
    "# vector = [\n",
    "#     N(cos(rad(deg1))*len1 + cos(rad(deg2))*len2), \n",
    "#     N(sin(rad(deg1))*len1 + sin(rad(deg2))*len2)]\n",
    "# vector\n",
    "\n"
   ]
  },
  {
   "cell_type": "code",
   "execution_count": 3,
   "metadata": {},
   "outputs": [
    {
     "data": {
      "text/latex": [
       "$\\displaystyle \\left[\\begin{matrix}-5.95009919503805\\\\-3.68731875069238\\end{matrix}\\right]$"
      ],
      "text/plain": [
       "⎡-5.95009919503805⎤\n",
       "⎢                 ⎥\n",
       "⎣-3.68731875069238⎦"
      ]
     },
     "execution_count": 3,
     "metadata": {},
     "output_type": "execute_result"
    }
   ],
   "source": [
    "def vec(len, deg):\n",
    "    return len*Matrix([cos(rad(deg)), sin(rad(deg))])\n",
    "\n",
    "v = vec(8, 190)+vec(3, 310)\n",
    "N(v)"
   ]
  },
  {
   "cell_type": "code",
   "execution_count": 4,
   "metadata": {},
   "outputs": [],
   "source": [
    "def det(m):\n",
    "    size = len(m)\n",
    "    det = 1\n",
    "    for row in range(size):\n",
    "        swap = row+1\n",
    "        while m[row][row] == 0:\n",
    "            if (swap == size):\n",
    "                return 0\n",
    "            m[row], m[swap] = m[swap], m[row]\n",
    "            det*=-1\n",
    "            swap+=1\n",
    "        for op in range(row+1, size):\n",
    "            for col in range(row+1, size):\n",
    "                m[op][col] = m[op][col] - m[row][col] * m[op][row] / m[row][row]\n",
    "            m[op][row] = 0\n",
    "    for i in range(size):\n",
    "        det*=m[i][i]\n",
    "    return det\n",
    "\n",
    "def mult(m1, m2):\n",
    "    dim = len(m1[0])\n",
    "    if dim != len(m2):\n",
    "        raise ValueError(\"Invalid matrix dimensions\")\n",
    "    rows = len(m1)\n",
    "    cols = len(m2[0])\n",
    "    result = [[0 for c in range(cols)] for r in range(rows)]\n",
    "    for r in range(rows):\n",
    "        for c in range(cols):\n",
    "            for d in range(dim):\n",
    "                result[r][c] += m1[r][d]*m2[d][c]\n",
    "    return result\n",
    "    \n",
    "def rand_matrix(size):\n",
    "    return [[torch.rand(1).item() for i in range(size)] for j in range(size)]"
   ]
  },
  {
   "cell_type": "code",
   "execution_count": 5,
   "metadata": {},
   "outputs": [
    {
     "name": "stdout",
     "output_type": "stream",
     "text": [
      "mine: 92.02957153320312\n",
      "Intel MKL WARNING: Support of Intel(R) Streaming SIMD Extensions 4.2 (Intel(R) SSE4.2) enabled only processors has been deprecated. Intel oneAPI Math Kernel Library 2025.0 will require Intel(R) Advanced Vector Extensions (Intel(R) AVX) instructions.\n",
      "torch: 108270.16830444336\n",
      "mine: -0.011910630611473502\n",
      "torch: -0.01191063690930605\n"
     ]
    },
    {
     "data": {
      "text/latex": [
       "$\\displaystyle \\left[\\begin{matrix}0.991800606250763 & 0.538183689117432 & 0.284696042537689 & 0.203324019908905 & 0.29644775390625 & 0.661621749401093 & 0.250908195972443 & 0.424390614032745 & 0.203900575637817 & 0.584083676338196\\\\0.336105108261108 & 0.593875408172607 & 0.0190650224685669 & 0.924343705177307 & 0.416211068630219 & 0.0299719572067261 & 0.502195417881012 & 0.909027636051178 & 0.529257535934448 & 0.967380404472351\\\\0.446864366531372 & 0.143027901649475 & 0.761741101741791 & 0.953784465789795 & 0.500349521636963 & 0.34415066242218 & 0.147752523422241 & 0.646222770214081 & 0.378762125968933 & 0.0992343425750732\\\\0.193450331687927 & 0.828258454799652 & 0.457113564014435 & 0.730312466621399 & 0.872876942157745 & 0.444908618927002 & 0.387637317180634 & 0.612635016441345 & 0.574581861495972 & 0.575068891048431\\\\0.910289227962494 & 0.854545891284943 & 0.463100790977478 & 0.134106457233429 & 0.978533625602722 & 0.016316831111908 & 0.790718674659729 & 0.344583451747894 & 0.861592054367065 & 0.466704607009888\\\\0.392953634262085 & 0.871023178100586 & 0.09908527135849 & 0.724089503288269 & 0.183183252811432 & 0.663151621818542 & 0.0852035284042358 & 0.263136446475983 & 0.341015636920929 & 0.140223562717438\\\\0.849647343158722 & 0.95172917842865 & 0.69468367099762 & 0.582118809223175 & 0.525965988636017 & 0.201319754123688 & 0.213007092475891 & 0.950129508972168 & 0.798024952411652 & 0.706848561763763\\\\0.949295520782471 & 0.00188976526260376 & 0.507131993770599 & 0.738537013530731 & 0.525960743427277 & 0.534809410572052 & 0.24323844909668 & 0.5439612865448 & 0.853836953639984 & 0.852480292320251\\\\0.100710034370422 & 0.680976510047913 & 0.801137149333954 & 0.0732040405273438 & 0.097533643245697 & 0.0552271008491516 & 0.873268485069275 & 0.451897740364075 & 0.26058691740036 & 0.679706752300262\\\\0.0528432130813599 & 0.104761958122253 & 0.0539421439170837 & 0.825369477272034 & 0.15021687746048 & 0.866382241249084 & 0.542721152305603 & 0.291325390338898 & 0.000105023384094238 & 0.751345813274384\\end{matrix}\\right]$"
      ],
      "text/plain": [
       "⎡0.991800606250763    0.538183689117432   0.284696042537689   0.20332401990890\n",
       "⎢                                                                             \n",
       "⎢0.336105108261108    0.593875408172607   0.0190650224685669  0.92434370517730\n",
       "⎢                                                                             \n",
       "⎢0.446864366531372    0.143027901649475   0.761741101741791   0.95378446578979\n",
       "⎢                                                                             \n",
       "⎢0.193450331687927    0.828258454799652   0.457113564014435   0.73031246662139\n",
       "⎢                                                                             \n",
       "⎢0.910289227962494    0.854545891284943   0.463100790977478   0.13410645723342\n",
       "⎢                                                                             \n",
       "⎢0.392953634262085    0.871023178100586    0.09908527135849   0.72408950328826\n",
       "⎢                                                                             \n",
       "⎢0.849647343158722    0.95172917842865     0.69468367099762   0.58211880922317\n",
       "⎢                                                                             \n",
       "⎢0.949295520782471   0.00188976526260376  0.507131993770599   0.73853701353073\n",
       "⎢                                                                             \n",
       "⎢0.100710034370422    0.680976510047913   0.801137149333954   0.07320404052734\n",
       "⎢                                                                             \n",
       "⎣0.0528432130813599   0.104761958122253   0.0539421439170837  0.82536947727203\n",
       "\n",
       "5   0.29644775390625   0.661621749401093   0.250908195972443   0.4243906140327\n",
       "                                                                              \n",
       "7   0.416211068630219  0.0299719572067261  0.502195417881012   0.9090276360511\n",
       "                                                                              \n",
       "5   0.500349521636963   0.34415066242218   0.147752523422241   0.6462227702140\n",
       "                                                                              \n",
       "9   0.872876942157745  0.444908618927002   0.387637317180634   0.6126350164413\n",
       "                                                                              \n",
       "9   0.978533625602722  0.016316831111908   0.790718674659729   0.3445834517478\n",
       "                                                                              \n",
       "9   0.183183252811432  0.663151621818542   0.0852035284042358  0.2631364464759\n",
       "                                                                              \n",
       "5   0.525965988636017  0.201319754123688   0.213007092475891   0.9501295089721\n",
       "                                                                              \n",
       "1   0.525960743427277  0.534809410572052    0.24323844909668    0.543961286544\n",
       "                                                                              \n",
       "38  0.097533643245697  0.0552271008491516  0.873268485069275   0.4518977403640\n",
       "                                                                              \n",
       "4   0.15021687746048   0.866382241249084   0.542721152305603   0.2913253903388\n",
       "\n",
       "45   0.203900575637817    0.584083676338196 ⎤\n",
       "                                            ⎥\n",
       "78   0.529257535934448    0.967380404472351 ⎥\n",
       "                                            ⎥\n",
       "81   0.378762125968933    0.0992343425750732⎥\n",
       "                                            ⎥\n",
       "45   0.574581861495972    0.575068891048431 ⎥\n",
       "                                            ⎥\n",
       "94   0.861592054367065    0.466704607009888 ⎥\n",
       "                                            ⎥\n",
       "83   0.341015636920929    0.140223562717438 ⎥\n",
       "                                            ⎥\n",
       "68   0.798024952411652    0.706848561763763 ⎥\n",
       "                                            ⎥\n",
       "8    0.853836953639984    0.852480292320251 ⎥\n",
       "                                            ⎥\n",
       "75    0.26058691740036    0.679706752300262 ⎥\n",
       "                                            ⎥\n",
       "98  0.000105023384094238  0.751345813274384 ⎦"
      ]
     },
     "execution_count": 5,
     "metadata": {},
     "output_type": "execute_result"
    }
   ],
   "source": [
    "vec = rand_matrix(10)\n",
    "ten = torch.tensor(vec).float()\n",
    "m = Matrix(vec)\n",
    "\n",
    "cycles = 1000\n",
    "\n",
    "start = time.time()\n",
    "a = det(vec)\n",
    "end = time.time()\n",
    "print(\"mine: \" + str((end-start)*1000000))\n",
    "\n",
    "start = time.time()\n",
    "b = torch.det(ten)\n",
    "end = time.time()\n",
    "print(\"torch: \" + str((end-start)*1000000))\n",
    "\n",
    "\n",
    "print(\"mine: \" + str(a))\n",
    "print(\"torch: \" + str(b.item()))\n",
    "N(m)"
   ]
  },
  {
   "cell_type": "code",
   "execution_count": null,
   "metadata": {},
   "outputs": [],
   "source": [
    "\n",
    "\n",
    "\n",
    "\n",
    "# ts1 = []\n",
    "# for i in range(cycles):\n",
    "#     ts1.append(torch.tensor(rand_matrix(9)).float())\n",
    "\n",
    "# ts2 = []\n",
    "# for i in range(cycles):\n",
    "#     ts2.append(torch.tensor(rand_matrix(9)).float())\n",
    "\n",
    "# start = time.time()\n",
    "# for i in range(1):\n",
    "#     m1 = mult(v1, v2)\n",
    "# end = time.time()\n",
    "# print(\"mine: \" + str((end-start)*1000000))\n",
    "\n",
    "# start = time.time()\n",
    "# for i in range(cycles):\n",
    "#     m2 = ts1[i] @ ts2[i]\n",
    "# end = time.time()\n",
    "# print(\"torch: \" + str((end-start)*1000000))\n",
    "\n"
   ]
  },
  {
   "cell_type": "code",
   "execution_count": 19,
   "metadata": {},
   "outputs": [
    {
     "name": "stdout",
     "output_type": "stream",
     "text": [
      "cpu: 31103.849411010742\n",
      "gpu: 483.7512969970703\n"
     ]
    }
   ],
   "source": [
    "size = 2048\n",
    "\n",
    "v1 = rand_matrix(size)\n",
    "c2 = torch.tensor(v1).float()\n",
    "g1 = torch.tensor(v1).float().to(\"mps\")\n",
    "\n",
    "v2 = rand_matrix(size)\n",
    "c2 = torch.tensor(v2).float()\n",
    "g2 = torch.tensor(v2).float().to(\"mps\")\n",
    "\n",
    "# %timeit t1 @ t2\n",
    "# %timeit mult(v1, v2)\n",
    "\n",
    "# Warm-up\n",
    "# for _ in range(100):\n",
    "#     torch.matmul(torch.rand(500,500).to(\"mps\"), torch.rand(500,500).to(\"mps\"))\n",
    "\n",
    "start = time.time()\n",
    "c2 @ c2\n",
    "end = time.time()\n",
    "print(\"cpu: \" + str((end-start)*1000000))\n",
    "\n",
    "start = time.time()\n",
    "g2 @ g2\n",
    "end = time.time()\n",
    "print(\"gpu: \" + str((end-start)*1000000))\n",
    "\n",
    "# start = time.time()\n",
    "# Matrix(mult(v1, v2))\n",
    "# end = time.time()\n",
    "# print(\"mine: \" + str((end-start)*1000000))\n",
    "\n",
    "\n"
   ]
  },
  {
   "cell_type": "code",
   "execution_count": null,
   "metadata": {},
   "outputs": [
    {
     "name": "stdout",
     "output_type": "stream",
     "text": [
      "c: 1141057.9681396484\n"
     ]
    }
   ],
   "source": [
    "# Assuming your compiled C program is named 'matmul' and is in the current directory\n",
    "start = time.time()\n",
    "result = subprocess.run(['../c/matmul'])\n",
    "end = time.time()\n",
    "print(\"c: \" + str((end-start)*1000000))"
   ]
  }
 ],
 "metadata": {
  "kernelspec": {
   "display_name": "Python 3",
   "language": "python",
   "name": "python3"
  },
  "language_info": {
   "codemirror_mode": {
    "name": "ipython",
    "version": 3
   },
   "file_extension": ".py",
   "mimetype": "text/x-python",
   "name": "python",
   "nbconvert_exporter": "python",
   "pygments_lexer": "ipython3",
   "version": "3.11.3"
  }
 },
 "nbformat": 4,
 "nbformat_minor": 2
}
