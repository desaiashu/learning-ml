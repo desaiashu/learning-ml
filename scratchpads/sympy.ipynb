{
 "cells": [
  {
   "cell_type": "code",
   "execution_count": 123,
   "metadata": {},
   "outputs": [],
   "source": [
    "import torch\n",
    "from sympy import Matrix, init_printing, cos, sin, rad, N\n",
    "import random\n",
    "import time\n",
    "from concurrent.futures import ProcessPoolExecutor\n",
    "import timeit\n",
    "import subprocess\n",
    "\n",
    "# Initialize pretty printing\n",
    "init_printing()\n"
   ]
  },
  {
   "cell_type": "code",
   "execution_count": 2,
   "metadata": {},
   "outputs": [
    {
     "name": "stdout",
     "output_type": "stream",
     "text": [
      "2.3.0.dev20240311\n"
     ]
    }
   ],
   "source": [
    "print(torch.__version__)"
   ]
  },
  {
   "cell_type": "markdown",
   "metadata": {},
   "source": [
    "$$\n",
    "\\mathbf{A} = \\begin{pmatrix} {11} & {12} & {13} \\\\ {21} & {22} & {23} \\end{pmatrix}\n",
    "$$\n",
    "\n",
    "\n",
    "$$\n",
    "\n",
    "a \\in \\mathbb{R}\n",
    "$$\n",
    "\n",
    "$$\n",
    "\n",
    "\\mathbf{M} = \\begin{pmatrix} \n",
    "m_{11} & m_{12} & \\cdots & m_{1n} \\\\ \n",
    "m_{21} & m_{22} & \\cdots & m_{2n} \\\\ \n",
    "\\vdots & \\vdots & \\ddots & \\vdots \\\\ \n",
    "m_{m1} & m_{m2} & \\cdots & m_{mn} \n",
    "\\end{pmatrix}\n",
    "$$\n",
    "$$\n",
    "\\mathbf{M}^\\top\n",
    "$$\n",
    "\n",
    "$$\n",
    "\\mathbf{M}^{-1}\n",
    "$$\n",
    "\n",
    "$$\n",
    "\\vec{u} \\cdot \\vec{v} = u_1v_1 + u_2v_2 + \\cdots + u_nv_n\n",
    "\n",
    "$$"
   ]
  },
  {
   "cell_type": "markdown",
   "metadata": {},
   "source": [
    "$$\n",
    "\\mathbf{T} = T_{ijk} \\quad \\text{where } i, j, k \\text{ are indices.}\n",
    "$$"
   ]
  },
  {
   "cell_type": "code",
   "execution_count": 7,
   "metadata": {},
   "outputs": [
    {
     "name": "stdout",
     "output_type": "stream",
     "text": [
      "tensor([[0.1670, 0.3071, 0.7835],\n",
      "        [0.1887, 0.1755, 0.5571],\n",
      "        [0.8769, 0.2957, 0.8682],\n",
      "        [0.4411, 0.0449, 0.9226],\n",
      "        [0.6492, 0.6468, 0.1082]])\n"
     ]
    }
   ],
   "source": [
    "\n",
    "x = torch.rand(5, 3)\n",
    "print(x)"
   ]
  },
  {
   "cell_type": "markdown",
   "metadata": {},
   "source": [
    "$$\n",
    "\\mathbf{A} = \\begin{pmatrix}\n",
    "a & b \\\\\n",
    "c & d\n",
    "\\end{pmatrix}\n",
    "\\\\\n",
    "\\mathbf{A}^{-1} = \\begin{pmatrix}\n",
    "d & -b \\\\\n",
    "-c & a\n",
    "\\end{pmatrix}\n",
    "$$"
   ]
  },
  {
   "cell_type": "markdown",
   "metadata": {},
   "source": [
    "$$\n",
    "\\mathbf{AA}^{-1} = \\begin{pmatrix}\n",
    "ad & -bc \\\\\n",
    "-cb & ad\n",
    "\\end{pmatrix}\n",
    "$$"
   ]
  },
  {
   "cell_type": "code",
   "execution_count": 30,
   "metadata": {},
   "outputs": [
    {
     "data": {
      "text/latex": [
       "$\\displaystyle \\left[\\begin{matrix}1\\\\2\\\\3\\end{matrix}\\right]$"
      ],
      "text/plain": [
       "⎡1⎤\n",
       "⎢ ⎥\n",
       "⎢2⎥\n",
       "⎢ ⎥\n",
       "⎣3⎦"
      ]
     },
     "execution_count": 30,
     "metadata": {},
     "output_type": "execute_result"
    }
   ],
   "source": [
    "# Define your vector\n",
    "vector = [1, 2, 3]\n",
    "\n",
    "# Convert the vector to a LaTeX formatted string\n",
    "Matrix(vector)\n"
   ]
  },
  {
   "cell_type": "code",
   "execution_count": 3,
   "metadata": {},
   "outputs": [
    {
     "data": {
      "image/png": "[encoded data removed]",
      "text/latex": [
       "$\\displaystyle \\left[ -5.95009919503805, \\  -3.68731875069238\\right]$"
      ],
      "text/plain": [
       "[-5.95009919503805, -3.68731875069238]"
      ]
     },
     "execution_count": 3,
     "metadata": {},
     "output_type": "execute_result"
    }
   ],
   "source": [
    "len1 = 8\n",
    "deg1 = 190\n",
    "len2 = 3\n",
    "deg2 = 310\n",
    "\n",
    "# vector = [\n",
    "#     N(cos(rad(deg1))*len1 + cos(rad(deg2))*len2), \n",
    "#     N(sin(rad(deg1))*len1 + sin(rad(deg2))*len2)]\n",
    "# vector\n",
    "\n"
   ]
  },
  {
   "cell_type": "code",
   "execution_count": 7,
   "metadata": {},
   "outputs": [
    {
     "data": {
      "text/latex": [
       "$\\displaystyle \\left[\\begin{matrix}-5.95009919503805\\\\-3.68731875069238\\end{matrix}\\right]$"
      ],
      "text/plain": [
       "⎡-5.95009919503805⎤\n",
       "⎢                 ⎥\n",
       "⎣-3.68731875069238⎦"
      ]
     },
     "execution_count": 7,
     "metadata": {},
     "output_type": "execute_result"
    }
   ],
   "source": [
    "def vec(len, deg):\n",
    "    return len*Matrix([cos(rad(deg)), sin(rad(deg))])\n",
    "\n",
    "v = vec(8, 190)+vec(3, 310)\n",
    "N(v)"
   ]
  },
  {
   "cell_type": "code",
   "execution_count": 114,
   "metadata": {},
   "outputs": [],
   "source": [
    "def det(m):\n",
    "    size = len(m)\n",
    "    det = 1\n",
    "    for row in range(size):\n",
    "        swap = row+1\n",
    "        while m[row][row] == 0:\n",
    "            if (swap == size):\n",
    "                return 0\n",
    "            m[row], m[swap] = m[swap], m[row]\n",
    "            det*=-1\n",
    "            swap+=1\n",
    "        for op in range(row+1, size):\n",
    "            for col in range(row+1, size):\n",
    "                m[op][col] = m[op][col] - m[row][col] * m[op][row] / m[row][row]\n",
    "            m[op][row] = 0\n",
    "    for i in range(size):\n",
    "        det*=m[i][i]\n",
    "    return det\n",
    "\n",
    "def mult(m1, m2):\n",
    "    dim = len(m1[0])\n",
    "    if dim != len(m2):\n",
    "        raise ValueError(\"Invalid matrix dimensions\")\n",
    "    rows = len(m1)\n",
    "    cols = len(m2[0])\n",
    "    result = [[0 for c in range(cols)] for r in range(rows)]\n",
    "    for r in range(rows):\n",
    "        for c in range(cols):\n",
    "            for d in range(dim):\n",
    "                result[r][c] += m1[r][d]*m2[d][c]\n",
    "    return result\n",
    "    \n",
    "def rand_matrix(size):\n",
    "    return [[torch.rand(1).item() for i in range(size)] for j in range(size)]"
   ]
  },
  {
   "cell_type": "code",
   "execution_count": 24,
   "metadata": {},
   "outputs": [
    {
     "name": "stdout",
     "output_type": "stream",
     "text": [
      "mine: 128.9844512939453\n",
      "torch: 458.00209045410156\n",
      "mine: -0.018637053502161476\n",
      "torch: -0.018637051805853844\n"
     ]
    },
    {
     "data": {
      "text/latex": [
       "$\\displaystyle \\left[\\begin{matrix}0.53123664855957 & 0.71538645029068 & 0.0569369196891785 & 0.567567110061646 & 0.816409468650818 & 0.860548913478851 & 0.00612914562225342 & 0.259338200092316 & 0.688087582588196 & 0.546990871429443\\\\0.53540301322937 & 0.409157991409302 & 0.133366525173187 & 0.0205579996109009 & 0.00749975442886353 & 0.275674343109131 & 0.221707165241241 & 0.251900196075439 & 0.794938802719116 & 0.673875629901886\\\\0.0748739838600159 & 0.609759151935577 & 0.778636276721954 & 0.247306883335114 & 0.920272767543793 & 0.444238483905792 & 0.535191893577576 & 0.0427690744400024 & 0.2127765417099 & 0.470577478408813\\\\0.922754526138306 & 0.419751048088074 & 0.736451685428619 & 0.251971244812012 & 0.0828065872192383 & 0.721150875091553 & 0.386828124523163 & 0.3114213347435 & 0.442654430866241 & 0.826913833618164\\\\0.224657237529755 & 0.909184396266937 & 0.796174943447113 & 0.975377440452576 & 0.780408322811127 & 0.874329030513763 & 0.0477948188781738 & 0.175693273544312 & 0.859826505184174 & 0.648088574409485\\\\0.770396053791046 & 0.511869132518768 & 0.340985953807831 & 0.254440903663635 & 0.423851191997528 & 0.139574468135834 & 0.0663690567016602 & 0.713236093521118 & 0.985139906406403 & 0.499516069889069\\\\0.252929210662842 & 0.0762952566146851 & 0.729895532131195 & 0.565570056438446 & 0.339173555374146 & 0.819524347782135 & 0.525907456874847 & 0.295560598373413 & 0.885442137718201 & 0.373649954795837\\\\0.683601677417755 & 0.536458194255829 & 0.46464616060257 & 0.948479473590851 & 0.325602352619171 & 0.754065752029419 & 0.0386622548103333 & 0.204124212265015 & 0.691086888313293 & 0.164762496948242\\\\0.99540251493454 & 0.879723370075226 & 0.648377060890198 & 0.582242608070374 & 0.393599629402161 & 0.461926341056824 & 0.569708108901978 & 0.406914353370667 & 0.237261354923248 & 0.974304556846619\\\\0.335304915904999 & 0.532472610473633 & 0.06299889087677 & 0.95551210641861 & 0.713803887367249 & 0.171833395957947 & 0.415376603603363 & 0.169189453125 & 0.136868536472321 & 0.363166213035583\\end{matrix}\\right]$"
      ],
      "text/plain": [
       "⎡ 0.53123664855957    0.71538645029068   0.0569369196891785  0.567567110061646\n",
       "⎢                                                                             \n",
       "⎢ 0.53540301322937   0.409157991409302   0.133366525173187   0.020557999610900\n",
       "⎢                                                                             \n",
       "⎢0.0748739838600159  0.609759151935577   0.778636276721954   0.247306883335114\n",
       "⎢                                                                             \n",
       "⎢0.922754526138306   0.419751048088074   0.736451685428619   0.251971244812012\n",
       "⎢                                                                             \n",
       "⎢0.224657237529755   0.909184396266937   0.796174943447113   0.975377440452576\n",
       "⎢                                                                             \n",
       "⎢0.770396053791046   0.511869132518768   0.340985953807831   0.254440903663635\n",
       "⎢                                                                             \n",
       "⎢0.252929210662842   0.0762952566146851  0.729895532131195   0.565570056438446\n",
       "⎢                                                                             \n",
       "⎢0.683601677417755   0.536458194255829    0.46464616060257   0.948479473590851\n",
       "⎢                                                                             \n",
       "⎢ 0.99540251493454   0.879723370075226   0.648377060890198   0.582242608070374\n",
       "⎢                                                                             \n",
       "⎣0.335304915904999   0.532472610473633    0.06299889087677    0.95551210641861\n",
       "\n",
       "    0.816409468650818   0.860548913478851  0.00612914562225342  0.259338200092\n",
       "                                                                              \n",
       "9  0.00749975442886353  0.275674343109131   0.221707165241241   0.251900196075\n",
       "                                                                              \n",
       "    0.920272767543793   0.444238483905792   0.535191893577576   0.042769074440\n",
       "                                                                              \n",
       "   0.0828065872192383   0.721150875091553   0.386828124523163    0.31142133474\n",
       "                                                                              \n",
       "    0.780408322811127   0.874329030513763  0.0477948188781738   0.175693273544\n",
       "                                                                              \n",
       "    0.423851191997528   0.139574468135834  0.0663690567016602   0.713236093521\n",
       "                                                                              \n",
       "    0.339173555374146   0.819524347782135   0.525907456874847   0.295560598373\n",
       "                                                                              \n",
       "    0.325602352619171   0.754065752029419  0.0386622548103333   0.204124212265\n",
       "                                                                              \n",
       "    0.393599629402161   0.461926341056824   0.569708108901978   0.406914353370\n",
       "                                                                              \n",
       "    0.713803887367249   0.171833395957947   0.415376603603363     0.1691894531\n",
       "\n",
       "316   0.688087582588196  0.546990871429443⎤\n",
       "                                          ⎥\n",
       "439   0.794938802719116  0.673875629901886⎥\n",
       "                                          ⎥\n",
       "0024   0.2127765417099   0.470577478408813⎥\n",
       "                                          ⎥\n",
       "35    0.442654430866241  0.826913833618164⎥\n",
       "                                          ⎥\n",
       "312   0.859826505184174  0.648088574409485⎥\n",
       "                                          ⎥\n",
       "118   0.985139906406403  0.499516069889069⎥\n",
       "                                          ⎥\n",
       "413   0.885442137718201  0.373649954795837⎥\n",
       "                                          ⎥\n",
       "015   0.691086888313293  0.164762496948242⎥\n",
       "                                          ⎥\n",
       "667   0.237261354923248  0.974304556846619⎥\n",
       "                                          ⎥\n",
       "25    0.136868536472321  0.363166213035583⎦"
      ]
     },
     "execution_count": 24,
     "metadata": {},
     "output_type": "execute_result"
    }
   ],
   "source": [
    "vec = rand_matrix(10)\n",
    "ten = torch.tensor(vec).float()\n",
    "m = Matrix(vec)\n",
    "\n",
    "cycles = 1000\n",
    "\n",
    "start = time.time()\n",
    "a = det(vec)\n",
    "end = time.time()\n",
    "print(\"mine: \" + str((end-start)*1000000))\n",
    "\n",
    "start = time.time()\n",
    "b = torch.det(ten)\n",
    "end = time.time()\n",
    "print(\"torch: \" + str((end-start)*1000000))\n",
    "\n",
    "\n",
    "print(\"mine: \" + str(a))\n",
    "print(\"torch: \" + str(b.item()))\n",
    "N(m)"
   ]
  },
  {
   "cell_type": "code",
   "execution_count": null,
   "metadata": {},
   "outputs": [],
   "source": [
    "\n",
    "\n",
    "\n",
    "\n",
    "# ts1 = []\n",
    "# for i in range(cycles):\n",
    "#     ts1.append(torch.tensor(rand_matrix(9)).float())\n",
    "\n",
    "# ts2 = []\n",
    "# for i in range(cycles):\n",
    "#     ts2.append(torch.tensor(rand_matrix(9)).float())\n",
    "\n",
    "# start = time.time()\n",
    "# for i in range(1):\n",
    "#     m1 = mult(v1, v2)\n",
    "# end = time.time()\n",
    "# print(\"mine: \" + str((end-start)*1000000))\n",
    "\n",
    "# start = time.time()\n",
    "# for i in range(cycles):\n",
    "#     m2 = ts1[i] @ ts2[i]\n",
    "# end = time.time()\n",
    "# print(\"torch: \" + str((end-start)*1000000))\n",
    "\n"
   ]
  },
  {
   "cell_type": "code",
   "execution_count": 121,
   "metadata": {},
   "outputs": [
    {
     "name": "stdout",
     "output_type": "stream",
     "text": [
      "tensor([[255.0110, 254.8084, 260.3150,  ..., 245.1185, 252.3317, 246.9242],\n",
      "        [253.6969, 254.8344, 257.1030,  ..., 249.9224, 250.5810, 246.9983],\n",
      "        [256.3399, 257.2682, 263.4097,  ..., 252.8234, 255.8131, 251.4306],\n",
      "        ...,\n",
      "        [251.3262, 243.6823, 258.5150,  ..., 240.4366, 244.6909, 242.9391],\n",
      "        [250.9867, 244.8271, 246.7029,  ..., 236.8574, 244.9741, 243.4406],\n",
      "        [249.7190, 250.6986, 260.1475,  ..., 251.4856, 246.2455, 248.4683]])\n",
      "torch: 7666.349411010742\n",
      "mine: 79952434.06295776\n"
     ]
    }
   ],
   "source": [
    "v1 = rand_matrix(1000)\n",
    "t1 = torch.tensor(v1).float()\n",
    "\n",
    "v2 = rand_matrix(1000)\n",
    "t2 = torch.tensor(v2).float()\n",
    "\n",
    "# %timeit t1 @ t2\n",
    "# %timeit mult(v1, v2)\n",
    "\n",
    "start = time.time()\n",
    "print(t1 @ t2)\n",
    "end = time.time()\n",
    "print(\"torch: \" + str((end-start)*1000000))\n",
    "\n",
    "start = time.time()\n",
    "Matrix(mult(v1, v2))\n",
    "end = time.time()\n",
    "print(\"mine: \" + str((end-start)*1000000))\n",
    "\n",
    "\n"
   ]
  },
  {
   "cell_type": "code",
   "execution_count": 127,
   "metadata": {},
   "outputs": [
    {
     "name": "stdout",
     "output_type": "stream",
     "text": [
      "c: 1141057.9681396484\n"
     ]
    }
   ],
   "source": [
    "# Assuming your compiled C program is named 'matmul' and is in the current directory\n",
    "start = time.time()\n",
    "result = subprocess.run(['../c/matmul'])\n",
    "end = time.time()\n",
    "print(\"c: \" + str((end-start)*1000000))"
   ]
  }
 ],
 "metadata": {
  "kernelspec": {
   "display_name": "Python 3",
   "language": "python",
   "name": "python3"
  },
  "language_info": {
   "codemirror_mode": {
    "name": "ipython",
    "version": 3
   },
   "file_extension": ".py",
   "mimetype": "text/x-python",
   "name": "python",
   "nbconvert_exporter": "python",
   "pygments_lexer": "ipython3",
   "version": "3.11.3"
  }
 },
 "nbformat": 4,
 "nbformat_minor": 2
}
