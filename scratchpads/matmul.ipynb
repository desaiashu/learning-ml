{
 "cells": [
  {
   "cell_type": "code",
   "execution_count": 2,
   "metadata": {},
   "outputs": [],
   "source": [
    "import torch\n",
    "import time"
   ]
  },
  {
   "cell_type": "code",
   "execution_count": 3,
   "metadata": {},
   "outputs": [],
   "source": [
    "def det(m):\n",
    "    size = len(m)\n",
    "    det = 1\n",
    "    for row in range(size):\n",
    "        swap = row+1\n",
    "        while m[row][row] == 0:\n",
    "            if (swap == size):\n",
    "                return 0\n",
    "            m[row], m[swap] = m[swap], m[row]\n",
    "            det*=-1\n",
    "            swap+=1\n",
    "        for op in range(row+1, size):\n",
    "            for col in range(row+1, size):\n",
    "                m[op][col] = m[op][col] - m[row][col] * m[op][row] / m[row][row]\n",
    "            m[op][row] = 0\n",
    "    for i in range(size):\n",
    "        det*=m[i][i]\n",
    "    return det\n",
    "\n",
    "def mult(m1, m2):\n",
    "    dim = len(m1[0])\n",
    "    if dim != len(m2):\n",
    "        raise ValueError(\"Invalid matrix dimensions\")\n",
    "    rows = len(m1)\n",
    "    cols = len(m2[0])\n",
    "    result = [[0 for c in range(cols)] for r in range(rows)]\n",
    "    for r in range(rows):\n",
    "        for c in range(cols):\n",
    "            for d in range(dim):\n",
    "                result[r][c] += m1[r][d]*m2[d][c]\n",
    "    return result\n",
    "    \n",
    "def rand_matrix(size):\n",
    "    return [[torch.rand(1).item() for i in range(size)] for j in range(size)]"
   ]
  },
  {
   "cell_type": "code",
   "execution_count": 17,
   "metadata": {},
   "outputs": [
    {
     "name": "stdout",
     "output_type": "stream",
     "text": [
      "to cuda: 114657.40203857422\n",
      "mult: 107898.23532104492\n",
      "to cpu: 288570.1656341553\n"
     ]
    }
   ],
   "source": [
    "size = 16384\n",
    "\n",
    "# torch.set_default_tensor_type(torch.FloatTensor)\n",
    "# torch.set_float32_matmul_precision('highest')\n",
    "torch.backends.cuda.matmul.allow_tf32 = True\n",
    "\n",
    "for i in range(0, 1):\n",
    "    c1 = torch.randn(size, size, dtype=torch.float32)\n",
    "    c2 = torch.randn(size, size, dtype=torch.float32)\n",
    "\n",
    "    start = time.time()\n",
    "    g1 = c1.to(\"cuda\")\n",
    "    g2 = c2.to(\"cuda\")\n",
    "    end = time.time()\n",
    "    print(\"to cuda: \" + str((end-start)*1000000))\n",
    "\n",
    "    start = time.time()\n",
    "    for i in range(0, 100):\n",
    "      r2 = g1 @ g2\n",
    "    torch.cuda.synchronize()\n",
    "    end = time.time()\n",
    "    print(\"mult: \" + str((end-start)*1000000))\n",
    "\n",
    "    start = time.time()\n",
    "    r_cpu = r2.cpu()\n",
    "    end = time.time()\n",
    "    print(\"to cpu: \" + str((end-start)*1000000))"
   ]
  }
 ],
 "metadata": {
  "kernelspec": {
   "display_name": "ml",
   "language": "python",
   "name": "python3"
  },
  "language_info": {
   "codemirror_mode": {
    "name": "ipython",
    "version": 3
   },
   "file_extension": ".py",
   "mimetype": "text/x-python",
   "name": "python",
   "nbconvert_exporter": "python",
   "pygments_lexer": "ipython3",
   "version": "3.12.2"
  }
 },
 "nbformat": 4,
 "nbformat_minor": 2
}
